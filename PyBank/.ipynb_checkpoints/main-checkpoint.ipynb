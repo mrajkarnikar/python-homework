{
 "cells": [
  {
   "cell_type": "markdown",
   "id": "a9d2c5e9-08b4-4f13-bd57-532716d95088",
   "metadata": {},
   "source": [
    "# Script for analyzing the financial records of a company given a file with month and profit/loss that month"
   ]
  },
  {
   "cell_type": "markdown",
   "id": "4d0a33cf-fd9a-4fac-b426-6322e1d60f0b",
   "metadata": {},
   "source": [
    "## Import required modules"
   ]
  },
  {
   "cell_type": "code",
   "execution_count": 17,
   "id": "8290322d-41e7-4afe-bd71-e10bd5a0042b",
   "metadata": {},
   "outputs": [],
   "source": [
    "from pathlib import Path\n",
    "import csv\n"
   ]
  },
  {
   "cell_type": "markdown",
   "id": "45da570d-c26a-49c1-bc08-14d4b44fe9e1",
   "metadata": {},
   "source": [
    "## Define a function which calculates the profit/loss stats"
   ]
  },
  {
   "cell_type": "code",
   "execution_count": 18,
   "id": "900775ab-5531-447c-bd4d-b3db81c45077",
   "metadata": {},
   "outputs": [],
   "source": [
    "\n",
    "def get_stats(input_file):\n",
    "    \n",
    "    total_months=0\n",
    "    total=0.0\n",
    "    total_profit_change=0.0\n",
    "    average_change=0.0\n",
    "    greatest_increase=0.0\n",
    "    greatest_increase_month=''\n",
    "    greatest_decrease=0.0\n",
    "    greatest_decrease_month=''\n",
    "    calculated_values={}\n",
    " \n",
    "    budget_data=Path(input_file)   \n",
    "    with open(budget_data,'r') as file:\n",
    "        csv_reader=csv.reader(file,delimiter=\",\")\n",
    "        next(csv_reader)\n",
    "        previous_month_profit=0\n",
    "\n",
    "        for row in csv_reader:\n",
    "            current_month=row[0]\n",
    "            current_month_profit=float(row[1])\n",
    "            # skip the profit change calculation for first month\n",
    "            if(total_months>0):\n",
    "                current_profit_change=current_month_profit-previous_month_profit\n",
    "            else:\n",
    "                current_profit_change=0\n",
    "\n",
    "            if current_profit_change > greatest_increase:\n",
    "                greatest_increase=current_profit_change\n",
    "                greatest_increase_month=current_month\n",
    "            elif current_profit_change < greatest_decrease:\n",
    "                greatest_decrease=current_profit_change\n",
    "                greatest_decrease_month=current_month\n",
    "\n",
    "            total_months+=1\n",
    "            total+=current_month_profit\n",
    "            total_profit_change+=current_profit_change\n",
    "            # set previous_month_profit to current_profit_changen for next iteration\n",
    "            previous_month_profit=current_month_profit\n",
    "\n",
    "    calculated_values['total']=int(total)\n",
    "    calculated_values['total_months']=total_months\n",
    "    calculated_values['greatest_increase']=int(round(greatest_increase,0))\n",
    "    calculated_values['greatest_increase_month']=greatest_increase_month\n",
    "    calculated_values['greatest_decrease']=int(round(greatest_decrease,0))\n",
    "    calculated_values['greatest_decrease_month']=greatest_decrease_month\n",
    "    # change average does not include first month. So we need to divide by total_months-1\n",
    "    calculated_values['average_change']=round(total_profit_change/(total_months-1),2)\n",
    "    \n",
    "    return calculated_values"
   ]
  },
  {
   "cell_type": "markdown",
   "id": "3f42cb76-cec3-447c-ae99-22751bbc3d2e",
   "metadata": {},
   "source": [
    "## Define a function which returns a formated string to be printed to console/file"
   ]
  },
  {
   "cell_type": "code",
   "execution_count": 19,
   "id": "3e634836-ddb9-4a29-8c40-3d3b500cfcf8",
   "metadata": {},
   "outputs": [],
   "source": [
    "\n",
    "def get_output_line(calculated_values) :\n",
    "    output=\"\"\n",
    "    output='Financial Analysis\\n'\n",
    "    output+='----------------------------\\n'\n",
    "    output+=f\"Total Months: {calculated_values['total_months']}\\n\"\n",
    "    output+=f\"Total: ${calculated_values['total']}\\n\"\n",
    "    output+=f\"Average  Change: ${calculated_values['average_change']}\\n\"\n",
    "    output+=f\"Greatest Increase in Profits:{calculated_values['greatest_increase_month']} (${calculated_values['greatest_increase']}) \\n\"\n",
    "    output+=f\"Greatest Decrease in Profits:{calculated_values['greatest_decrease_month']} (${calculated_values['greatest_decrease']}) \\n\"\n",
    "    return output"
   ]
  },
  {
   "cell_type": "markdown",
   "id": "347090d7-b46a-4d03-845e-997afb923410",
   "metadata": {},
   "source": [
    "## Invoke previously defined functions to calculate profit stats and get formated text to be printed"
   ]
  },
  {
   "cell_type": "code",
   "execution_count": 20,
   "id": "8952254b-a883-4f85-b7f9-cd1e24adb3b4",
   "metadata": {},
   "outputs": [],
   "source": [
    "profit_stats=get_stats('./budget_data.csv')\n",
    "output_line=get_output_line(profit_stats)"
   ]
  },
  {
   "cell_type": "markdown",
   "id": "4cc47e12-33ba-426a-a872-83a66fb19d67",
   "metadata": {},
   "source": [
    "## Print out to console and write out to a file"
   ]
  },
  {
   "cell_type": "code",
   "execution_count": 21,
   "id": "520f9edf-c858-483f-b6a5-aca3a4504914",
   "metadata": {},
   "outputs": [
    {
     "name": "stdout",
     "output_type": "stream",
     "text": [
      "Financial Analysis\n",
      "----------------------------\n",
      "Total Months: 86\n",
      "Total: $38382578\n",
      "Average  Change: $-2315.12\n",
      "Greatest Increase in Profits:Feb-2012 ($1926159) \n",
      "Greatest Decrease in Profits:Sep-2013 ($-2196167) \n",
      "\n"
     ]
    }
   ],
   "source": [
    "output_file=Path('./output.txt')\n",
    "with open(output_file,'w',newline=\"\\n\") as file:\n",
    "    file.write(output_line)\n",
    "    \n",
    "\n",
    "# printing out to console\n",
    "print(output_line)"
   ]
  }
 ],
 "metadata": {
  "kernelspec": {
   "display_name": "Python 3 (ipykernel)",
   "language": "python",
   "name": "python3"
  },
  "language_info": {
   "codemirror_mode": {
    "name": "ipython",
    "version": 3
   },
   "file_extension": ".py",
   "mimetype": "text/x-python",
   "name": "python",
   "nbconvert_exporter": "python",
   "pygments_lexer": "ipython3",
   "version": "3.9.7"
  }
 },
 "nbformat": 4,
 "nbformat_minor": 5
}
